{
 "cells": [
  {
   "cell_type": "code",
   "execution_count": 9,
   "metadata": {
    "gather": {
     "logged": 1645403670144
    }
   },
   "outputs": [],
   "source": [
    "from sklearn.datasets import fetch_20newsgroups\n",
    "from sklearn.feature_extraction.text import TfidfTransformer\n",
    "from sklearn.feature_extraction.text import CountVectorizer\n",
    "from sklearn.naive_bayes import MultinomialNB\n",
    "from sklearn.pipeline import Pipeline\n",
    "import numpy as np\n",
    "import tpot\n",
    "from tpot import TPOTClassifier\n",
    "from datetime import datetime\n",
    "from sklearn.datasets import load_files\n",
    "from sklearn.metrics import classification_report, confusion_matrix, accuracy_score"
   ]
  },
  {
   "cell_type": "code",
   "execution_count": 15,
   "metadata": {},
   "outputs": [],
   "source": [
    "def timer(start_time=None):\n",
    "    if not start_time:\n",
    "        start_time = datetime.now()\n",
    "        return start_time\n",
    "    elif start_time:\n",
    "        thour, temp_sec = divmod((datetime.now() - start_time).total_seconds(), 3600)\n",
    "        tmin, tsec = divmod(temp_sec, 60)\n",
    "        print('\\n Time taken: %i hours %i minutes and %s seconds.' % (thour, tmin, round(tsec, 2)))"
   ]
  },
  {
   "cell_type": "code",
   "execution_count": 6,
   "metadata": {},
   "outputs": [],
   "source": [
    "ROOT_PATH = \"./datasets/\"\n",
    "twenty = f\"{ROOT_PATH}20_newsgroups/\"\n",
    "pos_neg = f\"{ROOT_PATH}aclImdb/train/\"\n",
    "pos_negt = f\"{ROOT_PATH}aclImdb/test/\""
   ]
  },
  {
   "cell_type": "code",
   "execution_count": 55,
   "metadata": {
    "gather": {
     "logged": 1645403679367
    }
   },
   "outputs": [],
   "source": [
    "newsgroups_train = fetch_20newsgroups(subset='train', remove=('headers', 'footers', 'quotes'))\n",
    "newsgroups_test = fetch_20newsgroups(subset='test', remove=('headers', 'footers', 'quotes'))\n"
   ]
  },
  {
   "cell_type": "code",
   "execution_count": 56,
   "metadata": {},
   "outputs": [],
   "source": [
    "pos_neg_train = load_files(f\"{pos_neg}\")\n",
    "pos_negt_test = load_files(f\"{pos_negt}\")"
   ]
  },
  {
   "cell_type": "code",
   "execution_count": 68,
   "metadata": {
    "gather": {
     "logged": 1645403681030
    }
   },
   "outputs": [],
   "source": [
    "count_vect = CountVectorizer()\n",
    "X_newsgroups__train_counts = count_vect.fit_transform(newsgroups_train.data)\n",
    "X_pos_neg_train__train_counts = count_vect.fit_transform(pos_neg_train.data)"
   ]
  },
  {
   "cell_type": "code",
   "execution_count": 69,
   "metadata": {
    "gather": {
     "logged": 1645403681125
    }
   },
   "outputs": [],
   "source": [
    "tfidf_transformer = TfidfTransformer()\n",
    "X_newsgroup_train_tfidf = tfidf_transformer.fit_transform(X_newsgroups__train_counts)\n",
    "X_pos_neg_train_tfidf = tfidf_transformer.fit_transform(X_pos_neg_train__train_counts)\n"
   ]
  },
  {
   "cell_type": "code",
   "execution_count": 70,
   "metadata": {},
   "outputs": [],
   "source": [
    "X_newsgroups__test_counts = count_vect.fit_transform(newsgroups_test.data)\n",
    "X_pos_neg_train__test_counts = count_vect.fit_transform(pos_negt_test.data)"
   ]
  },
  {
   "cell_type": "code",
   "execution_count": 71,
   "metadata": {},
   "outputs": [],
   "source": [
    "X_newsgroup_test_tfidf = tfidf_transformer.fit_transform(X_newsgroups__test_counts)\n",
    "X_pos_neg_test_tfidf = tfidf_transformer.fit_transform(X_pos_neg_train__test_counts)"
   ]
  },
  {
   "cell_type": "code",
   "execution_count": 48,
   "metadata": {},
   "outputs": [
    {
     "data": {
      "application/vnd.jupyter.widget-view+json": {
       "model_id": "",
       "version_major": 2,
       "version_minor": 0
      },
      "text/plain": [
       "Optimization Progress:   0%|          | 0/300 [00:00<?, ?pipeline/s]"
      ]
     },
     "metadata": {},
     "output_type": "display_data"
    },
    {
     "name": "stderr",
     "output_type": "stream",
     "text": [
      "Exception ignored in: <function WeakSet.__init__.<locals>._remove at 0x7f995fcaf940>\n",
      "Traceback (most recent call last):\n",
      "  File \"/anaconda/envs/azureml_py38/lib/python3.8/_weakrefset.py\", line 38, in _remove\n",
      "    def _remove(item, selfref=ref(self)):\n",
      "stopit.utils.TimeoutException: \n"
     ]
    },
    {
     "name": "stdout",
     "output_type": "stream",
     "text": [
      "\n",
      "Generation 1 - Current best internal CV score: 0.7671029708300953\n",
      "\n",
      "Generation 2 - Current best internal CV score: 0.7671029708300953\n",
      "\n",
      "Generation 3 - Current best internal CV score: 0.7671029708300953\n",
      "\n",
      "Generation 4 - Current best internal CV score: 0.7671029708300953\n",
      "\n",
      "Generation 5 - Current best internal CV score: 0.7707265575886723\n",
      "\n",
      "Best pipeline: MultinomialNB(CombineDFs(input_matrix, SelectFwe(CombineDFs(input_matrix, input_matrix), alpha=0.037)), alpha=0.001, fit_prior=False)\n",
      "\n",
      " Time taken: 1 hours 12 minutes and 5.42 seconds.\n"
     ]
    }
   ],
   "source": [
    "model = TPOTClassifier(generations=5, population_size=50, max_eval_time_mins=1, cv=5, scoring='accuracy', verbosity=2, random_state=1, n_jobs=-1, config_dict = 'TPOT sparse')\n",
    "start_time = timer(None)\n",
    "model.fit(X_newsgroup_train_tfidf, newsgroups_train.target)\n",
    "timer(start_time)\n",
    "model.export('20group_model.py')"
   ]
  },
  {
   "cell_type": "code",
   "execution_count": 16,
   "metadata": {},
   "outputs": [
    {
     "name": "stdout",
     "output_type": "stream",
     "text": [
      "Warning: xgboost.XGBClassifier is not available and will not be used by TPOT.\n",
      "                                                                            \n",
      "Generation 1 - Current best internal CV score: 0.8516\n",
      "                                                                            \n",
      "Generation 2 - Current best internal CV score: 0.86356\n",
      "                                                          \n",
      "Generation 3 - Current best internal CV score: 0.86744\n",
      "                                                          \n",
      "Best pipeline: MultinomialNB(CombineDFs(input_matrix, SelectPercentile(input_matrix, percentile=6)), alpha=0.1, fit_prior=False)\n",
      "\n",
      " Time taken: 0 hours 5 minutes and 29.18 seconds.\n"
     ]
    }
   ],
   "source": [
    "model = TPOTClassifier(generations=3, population_size=10, max_eval_time_mins=1, cv=5, scoring='accuracy', verbosity=2, random_state=1, n_jobs=-1, config_dict = 'TPOT sparse')\n",
    "start_time = timer(None)\n",
    "model.fit(X_train_tfidf, pos_neg_df.target)\n",
    "timer(start_time)\n",
    "model.export('movie_review_model.py')"
   ]
  }
 ],
 "metadata": {
  "interpreter": {
   "hash": "3cca706f505208c4b21b29d5a035e2b3408c985b39f4d19b15648ac6df55340d"
  },
  "kernel_info": {
   "name": "python3"
  },
  "kernelspec": {
   "display_name": "Python 3",
   "language": "python",
   "name": "python3"
  },
  "language_info": {
   "codemirror_mode": {
    "name": "ipython",
    "version": 3
   },
   "file_extension": ".py",
   "mimetype": "text/x-python",
   "name": "python",
   "nbconvert_exporter": "python",
   "pygments_lexer": "ipython3",
   "version": "3.8.8"
  },
  "nteract": {
   "version": "nteract-front-end@1.0.0"
  }
 },
 "nbformat": 4,
 "nbformat_minor": 2
}
